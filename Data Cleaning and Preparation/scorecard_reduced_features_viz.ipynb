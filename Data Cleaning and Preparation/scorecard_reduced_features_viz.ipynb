{
 "cells": [
  {
   "cell_type": "code",
   "execution_count": 2,
   "metadata": {
    "collapsed": false
   },
   "outputs": [],
   "source": [
    "\n",
    "import sys\n",
    "reload(sys)\n",
    "sys.setdefaultencoding('utf8')\n",
    "\n",
    "# In[26]:\n",
    "\n",
    "import pandas as pd\n",
    "df_data = pd.read_csv('data/scorecard_imputed.csv', encoding='iso-8859-1',\n",
    "                      na_values=\"PrivacySuppressed\")\n",
    "df_original = pd.read_csv('data/scorecard_reduced_bachelors.csv', encoding='iso-8859-1',\n",
    "                      na_values=\"PrivacySuppressed\")\n",
    "df_reduced = pd.read_csv('data/scorecard_reduced_features.csv', encoding='iso-8859-1',\n",
    "                      na_values=\"PrivacySuppressed\")\n",
    "\n",
    "\n",
    "# In[27]:\n",
    "\n",
    "reduced = ['UNITID','INSTNM', 'ZIP']\n",
    "\n",
    "\n",
    "# In[30]:\n",
    "\n",
    "df_red_reduced = df_reduced[reduced]\n",
    "\n",
    "\n",
    "# In[32]:\n",
    "\n",
    "df_pre_final = pd.concat([df_red_reduced, df_data], axis=1, join_axes=[df_red_reduced.index])\n",
    "\n",
    "\n",
    "# In[43]:\n",
    "\n",
    "features = ['UNITID','INSTNM', 'ZIP', 'ADM_RATE_ALL', 'SATVR25', 'SATVR75', 'SAT_AVG_ALL', 'CCSIZSET', 'COST']\n",
    "new_features = ['UNITID', 'CITY', 'STABBR', 'LATITUDE', 'LONGITUDE', 'NPCURL']\n",
    "\n",
    "\n",
    "# In[44]:\n",
    "\n",
    "df_data_viz = df_pre_final[features]\n",
    "df_org_feat = df_original[new_features]\n",
    "\n",
    "\n",
    "# In[45]:\n",
    "\n",
    "df_result = pd.merge(df_data_viz, df_org_feat, how='left', on=['UNITID'])\n",
    "\n",
    "\n",
    "# In[49]:\n",
    "\n",
    "df_result.to_csv('data/scorecard_reduced_features_viz.csv')\n",
    "\n"
   ]
  },
  {
   "cell_type": "code",
   "execution_count": null,
   "metadata": {
    "collapsed": true
   },
   "outputs": [],
   "source": []
  }
 ],
 "metadata": {
  "kernelspec": {
   "display_name": "Python 2",
   "language": "python",
   "name": "python2"
  },
  "language_info": {
   "codemirror_mode": {
    "name": "ipython",
    "version": 2
   },
   "file_extension": ".py",
   "mimetype": "text/x-python",
   "name": "python",
   "nbconvert_exporter": "python",
   "pygments_lexer": "ipython2",
   "version": "2.7.9"
  }
 },
 "nbformat": 4,
 "nbformat_minor": 0
}
